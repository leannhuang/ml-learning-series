{
  "nbformat": 4,
  "nbformat_minor": 0,
  "metadata": {
    "colab": {
      "provenance": []
    },
    "kernelspec": {
      "name": "python3",
      "display_name": "Python 3"
    },
    "language_info": {
      "name": "python"
    }
  },
  "cells": [
    {
      "cell_type": "code",
      "metadata": {
        "id": "RYUlb1qWGgY7",
        "colab": {
          "base_uri": "https://localhost:8080/"
        },
        "outputId": "7175cad6-e2be-442f-dbd9-e32a56db8cd3"
      },
      "source": [
        "pip install numpy"
      ],
      "execution_count": 5,
      "outputs": [
        {
          "output_type": "stream",
          "name": "stdout",
          "text": [
            "Looking in indexes: https://pypi.org/simple, https://us-python.pkg.dev/colab-wheels/public/simple/\n",
            "Requirement already satisfied: numpy in /usr/local/lib/python3.7/dist-packages (1.21.6)\n"
          ]
        }
      ]
    },
    {
      "cell_type": "code",
      "metadata": {
        "id": "JSTqz_0NJlJS",
        "colab": {
          "base_uri": "https://localhost:8080/"
        },
        "outputId": "ec4b93cc-37bc-45d8-c26e-e84843be840a"
      },
      "source": [
        "pip install matplotlib"
      ],
      "execution_count": 6,
      "outputs": [
        {
          "output_type": "stream",
          "name": "stdout",
          "text": [
            "Looking in indexes: https://pypi.org/simple, https://us-python.pkg.dev/colab-wheels/public/simple/\n",
            "Requirement already satisfied: matplotlib in /usr/local/lib/python3.7/dist-packages (3.2.2)\n",
            "Requirement already satisfied: kiwisolver>=1.0.1 in /usr/local/lib/python3.7/dist-packages (from matplotlib) (1.4.4)\n",
            "Requirement already satisfied: numpy>=1.11 in /usr/local/lib/python3.7/dist-packages (from matplotlib) (1.21.6)\n",
            "Requirement already satisfied: pyparsing!=2.0.4,!=2.1.2,!=2.1.6,>=2.0.1 in /usr/local/lib/python3.7/dist-packages (from matplotlib) (3.0.9)\n",
            "Requirement already satisfied: python-dateutil>=2.1 in /usr/local/lib/python3.7/dist-packages (from matplotlib) (2.8.2)\n",
            "Requirement already satisfied: cycler>=0.10 in /usr/local/lib/python3.7/dist-packages (from matplotlib) (0.11.0)\n",
            "Requirement already satisfied: typing-extensions in /usr/local/lib/python3.7/dist-packages (from kiwisolver>=1.0.1->matplotlib) (4.1.1)\n",
            "Requirement already satisfied: six>=1.5 in /usr/local/lib/python3.7/dist-packages (from python-dateutil>=2.1->matplotlib) (1.15.0)\n"
          ]
        }
      ]
    },
    {
      "cell_type": "code",
      "source": [
        "import numpy as np\n",
        "import matplotlib.pyplot as plt"
      ],
      "metadata": {
        "id": "P7hxazfBIfbB"
      },
      "execution_count": 7,
      "outputs": []
    },
    {
      "cell_type": "code",
      "source": [
        "x_data=[338, 333, 328, 207, 226, 25, 179, 60, 208, 606]"
      ],
      "metadata": {
        "id": "hOYJf9ErIG9-"
      },
      "execution_count": 8,
      "outputs": []
    },
    {
      "cell_type": "code",
      "source": [
        "y_data=[640, 633, 619, 393, 428, 27, 193, 66, 226, 1591]"
      ],
      "metadata": {
        "id": "_rnALWzTIMC0"
      },
      "execution_count": 9,
      "outputs": []
    },
    {
      "cell_type": "code",
      "source": [
        "# ydata = b + w * xdata\n",
        "b=-120 #initial b\n",
        "w=-4 #initial w\n",
        "lr=1                \n",
        "iteration=100000    \n",
        "\n",
        "b_history=[b]       \n",
        "w_history=[w]       \n",
        "\n",
        "lr_b=0\n",
        "lr_w=0"
      ],
      "metadata": {
        "id": "zBXVfsskIOXx"
      },
      "execution_count": 10,
      "outputs": []
    },
    {
      "cell_type": "code",
      "source": [
        "for i in range(iteration):\n",
        "    \n",
        "    b_grad=0.0  \n",
        "    w_grad=0.0  \n",
        "\n",
        "    for n in range(len(x_data)):\n",
        "        # L(w,b) partial derivative on b\n",
        "        b_grad = b_grad -2.0*(y_data[n] - b - w*x_data[n])*1.0\n",
        "        # L(w,b) partial derivative on w\n",
        "        w_grad = w_grad -2.0*(y_data[n] - b - w*x_data[n])*x_data[n]\n",
        "\n",
        "    lr_b = lr_b + b_grad **2\n",
        "    lr_w = lr_w + w_grad **2\n",
        "\n",
        "    b = b - lr/np.sqrt(lr_b)*b_grad # Adagrad\n",
        "    w = w - lr/np.sqrt(lr_w)*w_grad\n",
        "\n",
        "    b_history.append(b)\n",
        "    w_history.append(w)\n",
        "        \n",
        "print(\"Mini point: b =\",b_history[-1],\"w =\",w_history[-1])\n",
        "plt.plot(b_history, w_history, 'ro')\n",
        "plt.show()"
      ],
      "metadata": {
        "colab": {
          "base_uri": "https://localhost:8080/",
          "height": 287
        },
        "id": "b0_vFnadIWmF",
        "outputId": "39dea851-d294-4541-c42d-8db396439f17"
      },
      "execution_count": 11,
      "outputs": [
        {
          "output_type": "stream",
          "name": "stdout",
          "text": [
            "Mini point: b = -188.3668387495323 w = 2.6692640713379903\n"
          ]
        },
        {
          "output_type": "display_data",
          "data": {
            "text/plain": [
              "<Figure size 432x288 with 1 Axes>"
            ],
            "image/png": "[encoded data removed]"
          },
          "metadata": {
            "needs_background": "light"
          }
        }
      ]
    },
    {
      "cell_type": "code",
      "source": [
        "x = np.arange(-200,-100,1) #bias\n",
        "y = np.arange(-5,5,0.1) #weight\n",
        "Z =  np.zeros((len(x), len(y)))\n",
        "X, Y = np.meshgrid(x, y)\n",
        "for i in range(len(x)):\n",
        "  for j in range(len(y)):\n",
        "    b = x[i]\n",
        "    w = y[j]\n",
        "    Z[j][i] = 0\n",
        "    for n in range(len(x_data)):\n",
        "      Z[j][i] = Z[j][i] +  (y_data[n] - b - w*x_data[n])**2\n",
        "      Z[j][i] = Z[j][i]/len(x_data)"
      ],
      "metadata": {
        "id": "24FvLMO1VH5s"
      },
      "execution_count": 13,
      "outputs": []
    },
    {
      "cell_type": "code",
      "source": [
        "# Adagrad\n",
        "# plot the figure\\n\",\n",
        "plt.contourf(x,y,Z, 50, alpha=0.5, cmap=plt.get_cmap('jet'))\n",
        "plt.plot([-188.4], [2.67], 'x', ms=12, markeredgewidth=3, color='orange')\n",
        "plt.plot(b_history, w_history, 'o-', ms=3, lw=1.5, color='black')\n",
        "plt.xlim(-200,-100)\n",
        "plt.ylim(-5,5)\n",
        "plt.xlabel(r'$b$', fontsize=16)\n",
        "plt.ylabel(r'$w$', fontsize=16)\n",
        "plt.show()"
      ],
      "metadata": {
        "colab": {
          "base_uri": "https://localhost:8080/",
          "height": 285
        },
        "id": "D7GtlljrT5G8",
        "outputId": "747ef939-fc6a-43ad-c10b-facd19541b22"
      },
      "execution_count": 14,
      "outputs": [
        {
          "output_type": "display_data",
          "data": {
            "text/plain": [
              "<Figure size 432x288 with 1 Axes>"
            ],
            "image/png": "[encoded data removed]"
          },
          "metadata": {
            "needs_background": "light"
          }
        }
      ]
    },
    {
      "cell_type": "code",
      "source": [
        "# naiive gradient descent \n",
        "# ydata = b + w * xdata\n",
        "b=-120 #initial b\n",
        "w=-4 #initial w\n",
        "lr=1                \n",
        "iteration=100000    \n",
        "\n",
        "b_history=[b]       \n",
        "w_history=[w]       \n",
        "\n",
        "lr_b=0\n",
        "lr_w=0\n",
        "\n",
        "for i in range(iteration):\n",
        "    \n",
        "    b_grad=0.0  \n",
        "    w_grad=0.0  \n",
        "\n",
        "    for n in range(len(x_data)):\n",
        "        # L(w,b) partial derivative on b\n",
        "        b_grad = b_grad -2.0*(y_data[n] - b - w*x_data[n])*1.0\n",
        "        # L(w,b) partial derivative on w\n",
        "        w_grad = w_grad -2.0*(y_data[n] - b - w*x_data[n])*x_data[n]\n",
        "\n",
        "    #lr_b = lr_b + b_grad **2\n",
        "    #lr_w = lr_w + w_grad **2\n",
        "\n",
        "    b = b - lr*b_grad \n",
        "    w = w - lr*w_grad\n",
        "\n",
        "    b_history.append(b)\n",
        "    w_history.append(w)"
      ],
      "metadata": {
        "id": "HyQc5eRFVzWK"
      },
      "execution_count": 15,
      "outputs": []
    },
    {
      "cell_type": "code",
      "source": [
        "# plot the figure\\n\",\n",
        "plt.contourf(x,y,Z, 50, alpha=0.5, cmap=plt.get_cmap('jet'))\n",
        "plt.plot([-188.4], [2.67], 'x', ms=12, markeredgewidth=3, color='orange')\n",
        "plt.plot(b_history, w_history, 'o-', ms=3, lw=1.5, color='black')\n",
        "plt.xlim(-200,-100)\n",
        "plt.ylim(-5,5)\n",
        "plt.xlabel(r'$b$', fontsize=16)\n",
        "plt.ylabel(r'$w$', fontsize=16)\n",
        "plt.show()"
      ],
      "metadata": {
        "colab": {
          "base_uri": "https://localhost:8080/",
          "height": 285
        },
        "id": "15Uy5nzAWEBj",
        "outputId": "b27f67bd-6750-4db3-f3f1-9c8e0f56017d"
      },
      "execution_count": 16,
      "outputs": [
        {
          "output_type": "display_data",
          "data": {
            "text/plain": [
              "<Figure size 432x288 with 1 Axes>"
            ],
            "image/png": "[encoded data removed]"
          },
          "metadata": {
            "needs_background": "light"
          }
        }
      ]
    },
    {
      "cell_type": "code",
      "source": [
        "# Adjust learning rate of the naiive gradient descent \n",
        "# ydata = b + w * xdata\n",
        "b=-120 #initial b\n",
        "w=-4 #initial w\n",
        "lr=0.00001                \n",
        "iteration=100000    \n",
        "\n",
        "b_history=[b]       \n",
        "w_history=[w]       \n",
        "\n",
        "lr_b=0\n",
        "lr_w=0\n",
        "\n",
        "for i in range(iteration):\n",
        "    \n",
        "    b_grad=0.0  \n",
        "    w_grad=0.0  \n",
        "\n",
        "    for n in range(len(x_data)):\n",
        "        # L(w,b) partial derivative on b\n",
        "        b_grad = b_grad -2.0*(y_data[n] - b - w*x_data[n])*1.0\n",
        "        # L(w,b) partial derivative on w\n",
        "        w_grad = w_grad -2.0*(y_data[n] - b - w*x_data[n])*x_data[n]\n",
        "\n",
        "    #lr_b = lr_b + b_grad **2\n",
        "    #lr_w = lr_w + w_grad **2\n",
        "\n",
        "    b = b - lr*b_grad \n",
        "    w = w - lr*w_grad\n",
        "\n",
        "    b_history.append(b)\n",
        "    w_history.append(w)"
      ],
      "metadata": {
        "id": "EArINe8CWMw6"
      },
      "execution_count": 21,
      "outputs": []
    },
    {
      "cell_type": "code",
      "source": [
        "# plot the figure\\n\",\n",
        "plt.contourf(x,y,Z, 50, alpha=0.5, cmap=plt.get_cmap('jet'))\n",
        "plt.plot([-188.4], [2.67], 'x', ms=12, markeredgewidth=3, color='orange')\n",
        "plt.plot(b_history, w_history, 'o-', ms=3, lw=1.5, color='black')\n",
        "plt.xlim(-200,-100)\n",
        "plt.ylim(-5,5)\n",
        "plt.xlabel(r'$b$', fontsize=16)\n",
        "plt.ylabel(r'$w$', fontsize=16)\n",
        "plt.show()"
      ],
      "metadata": {
        "colab": {
          "base_uri": "https://localhost:8080/",
          "height": 285
        },
        "id": "zD-OidfjWRMi",
        "outputId": "dbfda899-95f0-4f88-8bae-9d0db7784576"
      },
      "execution_count": 22,
      "outputs": [
        {
          "output_type": "display_data",
          "data": {
            "text/plain": [
              "<Figure size 432x288 with 1 Axes>"
            ],
            "image/png": "[encoded data removed]"
          },
          "metadata": {
            "needs_background": "light"
          }
        }
      ]
    }
  ]
}